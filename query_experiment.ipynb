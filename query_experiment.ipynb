{
 "cells": [
  {
   "cell_type": "code",
   "execution_count": 1,
   "metadata": {},
   "outputs": [],
   "source": [
    "import sqlite3\n",
    "import pandas as pd\n",
    "import numpy as np"
   ]
  },
  {
   "cell_type": "code",
   "execution_count": null,
   "metadata": {},
   "outputs": [],
   "source": [
    "conn = sqlite3.connect('finra.db')\n",
    "cursor = conn.cursor()"
   ]
  },
  {
   "cell_type": "code",
   "execution_count": null,
   "metadata": {},
   "outputs": [],
   "source": [
    "frame = cursor.execute(\"SELECT disclosures.Allegations FROM disclosures WHERE disclosures.'Broker Comment' LIKE '%INFORMAL%'\").fetchall()"
   ]
  },
  {
   "cell_type": "code",
   "execution_count": null,
   "metadata": {},
   "outputs": [],
   "source": [
    "# !pip3 install requests pypdf2\n",
    "!pip3 install tqdm"
   ]
  },
  {
   "cell_type": "code",
   "execution_count": 2,
   "metadata": {},
   "outputs": [],
   "source": [
    "with open('metadata2.rtf','rb') as f:\n",
    "    txt = f.read()\n",
    "txt = txt.decode(\"utf-8\").split('\\n')"
   ]
  },
  {
   "cell_type": "code",
   "execution_count": null,
   "metadata": {},
   "outputs": [],
   "source": [
    "import os\n",
    "print(os.listdir('/home/anon/Documents/db'))"
   ]
  },
  {
   "cell_type": "code",
   "execution_count": 3,
   "metadata": {},
   "outputs": [],
   "source": [
    "# txt[txt.find(\"Disclosure 1 of \"):txt.find(\"Disclosure 1 of \")+10000]\n",
    "import sqlite3\n",
    "conn = sqlite3.connect('/home/anon/Documents/db/finra/firms.db')\n",
    "cursor = conn.cursor()\n",
    "\n",
    "# frame"
   ]
  },
  {
   "cell_type": "code",
   "execution_count": 113,
   "metadata": {
    "scrolled": true
   },
   "outputs": [
    {
     "name": "stderr",
     "output_type": "stream",
     "text": [
      "100%|██████████| 352/352 [00:00<00:00, 4637.60it/s]\n"
     ]
    },
    {
     "name": "stdout",
     "output_type": "stream",
     "text": [
      "['©2020        Date']\n",
      "['FINRA. All rights Type']\n",
      "['©2020        Date']\n",
      "['©2020 Product     Type(s)']\n",
      "['Does the order constitute a final order based on violations Allany reserved.98 regulations that prohibit Does the order constitute a final order based on violations of any laws or regulations that prohibit fraudulent, manipulative, or deceptive conduct?']\n",
      "['©2020 Sanction(s)/Relief Sought']\n",
      "['FINRA. All rights Type']\n",
      "['Does the order constitute a final order based on violations of any laws or regulations that prohibit fraudulent, ©2020manipulative, deceptive conduct? Does the order constitute a final order based on violations of any laws or regulations that prohibit fraudulent, manipulative, or deceptive conduct?']\n",
      "['©2020     Details']\n",
      "['Does the order constitute a final order based on violations of any laws or regulations ©2020 that FINRA. All prohibit fraudulent, manipulative, or Does the order constitute a final order based on violations of any laws or regulations that prohibit fraudulent, manipulative, or deceptive conduct?']\n",
      "['Does the order constitute a final order based on violations of any laws or regulations that prohibit fraudulent, manipulative, or deceptive conduct? Does the order constitute a final order based on violations of any laws or regulations that prohibit fraudulent, manipulative, or deceptive conduct?']\n",
      "['Does the order constitute a final order based on violations of any laws or regulations that prohibit fraudulent, manipulative, or Does the order constitute a final order based on violations of any laws or regulations that prohibit fraudulent, manipulative, or deceptive conduct?']\n",
      "['©2020     Details']\n",
      "['All rightsOrdered']\n",
      "['URL for Regulatory Action']\n",
      "['CENSURE Sought']\n",
      "['URL for Regulatory Action', '©2020 Product     Type(s)']\n",
      "['SACHS & CO. LLC                                               215 Sought']\n",
      "['URL for Regulatory Action']\n",
      "['LLC          /Fine(s)                            237 Sought']\n",
      "['URL for Regulatory Action']\n",
      "['URL for Regulatory Action', 'Does the order constitute a final order based on violations of any laws or regulations that prohibit fraudulent, manipulative, or deceptive Does the order constitute a final order based on violations of any laws or regulations that prohibit fraudulent, manipulative, or deceptive conduct?']\n",
      "['©2020 Product     Type(s)']\n",
      "['©2020 Product     Type(s)']\n",
      "['URL for Regulatory Action']\n",
      "['Does the order constitute a final order basedon violations of any laws or Does the order constitute a final order based on violations of any laws or regulations that prohibit fraudulent, manipulative, or deceptive conduct?']\n",
      "['URL for Regulatory Action']\n",
      "['URL for Regulatory Action']\n",
      "['URL for Regulatory Action']\n",
      "['©2020     Details']\n",
      "['LLC                                               308 Sought']\n",
      "['©2020 Product     Type(s)']\n",
      "['URL for Regulatory Action']\n",
      "['URL for Regulatory Action']\n",
      "['URL for Regulatory Action']\n",
      "['©2020        Date']\n",
      "['©2020 Product     Type(s)']\n",
      "['Does the order constitute a final order based on violations of any laws or regulations that prohibit fraudulent, manipulative, or Does the order constitute a final order based on violations of any laws or regulations that prohibit fraudulent, manipulative, or deceptive conduct?']\n",
      "['©2020        Date']\n",
      "['All rightsOrdered']\n",
      "['©2020        Date']\n",
      "['Does the order constitute a final order based on violations of any laws or regulations that prohibit manipulative, 403 deceptive conduct? Does the order constitute a final order based on violations of any laws or regulations that prohibit fraudulent, manipulative, or deceptive conduct?']\n",
      "['©2020     Details']\n",
      "['©2020        Date']\n",
      "['URL for Regulatory Action']\n",
      "['All rightsOrdered']\n",
      "['URL for Regulatory Action']\n",
      "['All rightsOrdered']\n",
      "['Firm Statement GOLDMAN']\n",
      "['URL for Regulatory Action']\n",
      "['Filed', 'URL for Regulatory Action']\n",
      "['URL for Regulatory Action']\n",
      "['URL for Regulatory Action', '©2020        Date']\n",
      "['URL for Regulatory Action']\n",
      "['URL for Regulatory Action']\n",
      "['URL for Regulatory Action']\n",
      "['URL for Regulatory Action']\n",
      "['URL for Regulatory Action']\n",
      "['URL for Regulatory Action']\n",
      "['URL for Regulatory Action']\n",
      "['URL for Regulatory Action']\n",
      "['All rightsOrdered']\n",
      "['FINRA.                              Censure Sought']\n",
      "['©2020 Sanction(s)/Relief Sought']\n",
      "['All rightsOrdered']\n",
      "'NoneType' object has no attribute 'split'\n",
      "['FINRA. All rights Type']\n",
      "['©2020 Sanction(s)/Relief Sought']\n",
      "['FINRA. All rights Type']\n",
      "['All rightsOrdered']\n",
      "['LLC          /Fine(s)                          554 Sought']\n",
      "['FINRA. All rights Type']\n",
      "['All rightsOrdered']\n",
      "['©2020 Sanction(s)/Relief Sought']\n",
      "['©2020 Product     Type(s)']\n",
      "['©2020 Sanction(s)/Relief Sought']\n",
      "['Firm Statement SACHS']\n",
      "['©2020 Product     Type(s)']\n",
      "'NoneType' object has no attribute 'split'\n",
      "['FINRA. All rights Type']\n",
      "['©2020         Date']\n"
     ]
    }
   ],
   "source": [
    "from tqdm import tqdm\n",
    "cursor.execute('DELETE FROM disclosuretext')\n",
    "conn.commit()\n",
    "def searchlist(lst,string):\n",
    "    return [thing for thing in lst if string in thing]\n",
    "def processtext(sample):\n",
    "    finlst,elim = [],[]\n",
    "    keylst = [':','Does the order constitute','Firm Statement','Regulator Statement'] #Start Text \n",
    "    for num in range(len(sample)):\n",
    "        if any([item for item in keylst if item in sample[num]]):\n",
    "            ### Find Start(element) text and Stop(idx) locations for each field\n",
    "            element,idx = sample[num] if ('Sought:' not in sample[num] and 'Granted:' not in sample[num]) or ('Relief Sought:' in sample[num]) else ' '.join(sample[num-1:num+1]),num+1\n",
    "            if 'Sought:' not in element:\n",
    "#                 and 'Granted:' not in element\n",
    "                try:\n",
    "                    remaining = sample[idx]\n",
    "                    if 'Does the order constitute a' not in remaining:\n",
    "                        char = ':' \n",
    "                        while char not in remaining:\n",
    "                            idx+=1\n",
    "                            if 'Sanction(s)/Relief' not in remaining and 'Sanctions Ordered or Relief' not in remaining:\n",
    "                                element += ' ' + remaining \n",
    "                            remaining = sample[idx]\n",
    "                except:\n",
    "                    pass\n",
    "            finlst.append(element)\n",
    "    finlst = [item.split(':') for item in finlst]\n",
    "    for x in range(len(finlst)):\n",
    "        finlst[x] = [item.strip() for item in finlst[x] if item !='']\n",
    "        if 'Does the order constitute' in finlst[x][0]:\n",
    "            if 'No' in finlst[x][0]:\n",
    "                finlst[x] += ['No']\n",
    "            elif ' Yes ' in finlst[x][0]:\n",
    "                finlst[x] += ['Yes']\n",
    "            finlst[x][0] = finlst[x][0].replace(' Yes ','').replace(' No ','').replace('  ','').replace('afinal','a final')\n",
    "            finlst[x][0]\n",
    "        if 'Sanction(s)/Relief' in finlst[x][0] and '  ' in finlst[x][0]:\n",
    "            finlst[x] = [item for item in finlst[x][0].split('  ') if item!='']\n",
    "            finlst[x][0] += ' Sought'\n",
    "            finlst[x][1] = finlst[x][1].replace(' Sought','').strip()\n",
    "        if 'Sanctions Ordered or Relief' in finlst[x][0] and '  ' in finlst[x][0]:\n",
    "            finlst[x] = ' '.join(finlst[x]).split('  ')\n",
    "            finlst[x] = [item for item in finlst[x] if item!='']\n",
    "            finlst[x][0] += ' Granted'\n",
    "            finlst[x][1] = ' '.join(finlst[x][1:]).replace(' Granted','').strip()\n",
    "        if 'Firm Statement' in finlst[x][0] or 'Regulator Statement' in finlst[x][0]:\n",
    "            finlst[x] = [item for item in finlst[x][0].split('  ') if item!='']\n",
    "        if len(finlst[x]) > 2:\n",
    "            finlst[x][1] = ' '.join(finlst[x][1:]).strip()\n",
    "            del finlst[x][2:]\n",
    "        if finlst[x][0].isupper():\n",
    "            try:\n",
    "                elim.append(x)\n",
    "                finlst[x-1][1] += ' '.join(finlst[x]).strip()\n",
    "            except:\n",
    "                pass\n",
    "    rem = 0\n",
    "    for num in elim:\n",
    "        del finlst[num-rem]\n",
    "        rem+=1\n",
    "    return finlst\n",
    "frame = pd.DataFrame()\n",
    "locs = sorted(list(set([i for i, n in enumerate(txt) if \"Disclosure\" in n and \" of \" in n])))\n",
    "endlst = []\n",
    "for loc in tqdm(locs):\n",
    "    if loc != locs[-1]:\n",
    "        sample = txt[loc+1:locs[locs.index(loc)+1]]\n",
    "    else:\n",
    "        sample = txt[loc+1:]\n",
    "    sample = [item.strip() for item in sample if 'finra.org' not in item and 'All rights reserved.' not in item and item !='' and 'Report about ' not in item and '2020 FINRA' not in item]\n",
    "    endlst +=processtext(sample)\n",
    "numframes = pd.DataFrame(endlst)[0].tolist().count('Reporting Source')\n",
    "numiter = 0\n",
    "while numiter < numframes:\n",
    "    start = [i for i, n in enumerate(pd.DataFrame(endlst)[0].tolist()) if n == 'Reporting Source'][numiter]\n",
    "    try:\n",
    "        end = [i for i, n in enumerate(pd.DataFrame(endlst)[0].tolist()) if n == 'Reporting Source'][numiter+1]\n",
    "    except:\n",
    "        end = len(endlst)\n",
    "    intframe = pd.DataFrame(endlst[start:end]).drop_duplicates(subset=0).set_index(0).T\n",
    "    keep_cols = [item[1] for item in cursor.execute('PRAGMA table_info(disclosuretext);').fetchall()]\n",
    "    missing=[item for item in intframe.columns if item not in keep_cols]\n",
    "    if missing!=[]:\n",
    "        print(missing)\n",
    "#     if missing == ['Granted']:\n",
    "# #         print(endlst)\n",
    "#         print(numiter)\n",
    "    intframe = intframe.drop(columns=missing).reset_index(drop=True)\n",
    "    for col in [item for item in ['Date Initiated','Resolution Date','Case Initiated','Disposition Date','Date Court Action Filed'] if item in intframe.columns]:\n",
    "        try:\n",
    "            intframe[col] = pd.DataFrame([item.split(' ')[0] if pd.isnull(item) == False else item for item in intframe[col].tolist()])\n",
    "            intframe[col]=pd.to_datetime(intframe[col],errors='coerce')\n",
    "        except Exception as e:\n",
    "            print(e)\n",
    "    for col in ['Sanctions Ordered','Sum of All Relief Awarded','Sanctions Ordered or Relief Granted']:\n",
    "        if col in intframe.columns:\n",
    "            try:\n",
    "                intframe[col+' Amount'] = pd.DataFrame([float(searchlist(item.split(' '),'$')[0].replace('$','').replace(',','')) if len(searchlist(item.split(' '),'$'))>0 and pd.isnull(item) == False else 0 for item in intframe[col].tolist()])\n",
    "            except Exception as e:\n",
    "                print(e)\n",
    "    for floatcol in [item for item in ['Sum of All Relief Awarded','Sum of All Relief Requested'] if item in intframe.columns]:\n",
    "        intframe[floatcol]=intframe[floatcol].str.replace('$','').str.replace(',','')\n",
    "        intframe[floatcol] = pd.to_numeric(intframe[floatcol],errors='ignore')\n",
    "    intframe.to_sql('disclosuretext',conn,if_exists='append',index=False)\n",
    "    numiter += 1\n"
   ]
  },
  {
   "cell_type": "code",
   "execution_count": 96,
   "metadata": {},
   "outputs": [
    {
     "data": {
      "text/plain": [
       "['Granted:                                 Disgorgement/Restitution',\n",
       " 'Granted:                                 Disgorgement/Restitution',\n",
       " 'Granted:                                  Cease and Desist/Injunction',\n",
       " 'Granted:',\n",
       " 'Granted:                                  Disgorgement/Restitution',\n",
       " 'Granted:                                 Disgorgement/Restitution']"
      ]
     },
     "execution_count": 96,
     "metadata": {},
     "output_type": "execute_result"
    }
   ],
   "source": [
    "# thing = pd.to_datetime(pd.DataFrame([item.split(' ')[0] for item in intframe['Date Initiated'].tolist()]))\n",
    "# intframe['Date Initiated'] = thing\n",
    "# [item.split(' ')[0] for item in intframe['Date Initiated'].tolist()]\n",
    "# thing\n",
    "# intframe\n",
    "[item for item in txt if 'Granted:' in item]\n",
    "\n",
    "# fines"
   ]
  },
  {
   "cell_type": "code",
   "execution_count": null,
   "metadata": {},
   "outputs": [],
   "source": [
    "# [[thing for thing in item[0].split('  ') if thing !=''] for item in endlst if 'Principal Sanction(s)' in item[0]]\n",
    "# [item for item in endlst if 'Statement' in item[0]]\n",
    "# pd.DataFrame(endlst)[0].tolist().count('Reporting Source')\n",
    "# endlst[-1]\n",
    "# frame.drop_duplicates()\n",
    "locs = [i for i, n in enumerate(txt) if \"Disclosure\" in n and \" of \" in n]\n",
    "len(list(set(locs)))\n",
    "# locs"
   ]
  },
  {
   "cell_type": "code",
   "execution_count": null,
   "metadata": {},
   "outputs": [],
   "source": [
    "# txt[loc+1:locs[locs.index(loc)+1]]\n",
    "# # [item for item in txt if \"Disclosure \" in item and \" of \" in item]\n",
    "finlst[-1][0].split('  ')"
   ]
  },
  {
   "cell_type": "code",
   "execution_count": null,
   "metadata": {},
   "outputs": [],
   "source": [
    "# loc\n",
    "locs[locs.index(loc)+1]\n",
    "locs"
   ]
  },
  {
   "cell_type": "code",
   "execution_count": 7,
   "metadata": {},
   "outputs": [],
   "source": [
    "import os\n",
    "from shutil import copyfile\n",
    "\n",
    "def statuscheck(dest,idx):\n",
    "    destfin = dest+'/folder_{}'.format(str(idx)) \n",
    "    os.mkdir(destfin)\n",
    "    return destfin\n",
    "dest = '/home/anon/Documents/db/finra/ziptxt'\n",
    "source = '/home/anon/Documents/db/finra/pdf'\n",
    "filenames = sorted([item for item in os.listdir(source) if '.txt' in item])\n",
    "idx = 0\n",
    "destfin = statuscheck(dest,idx)\n",
    "for file in filenames:\n",
    "    if len(os.listdir(destfin))==1000:\n",
    "        idx+=1\n",
    "        destfin = statuscheck(dest,idx)\n",
    "    copyfile('{}/{}'.format(source,file),'{}/{}'.format(destfin,file))"
   ]
  },
  {
   "cell_type": "code",
   "execution_count": 3,
   "metadata": {},
   "outputs": [
    {
     "data": {
      "text/plain": [
       "'/home/anon/Documents/repos/pdftext'"
      ]
     },
     "execution_count": 3,
     "metadata": {},
     "output_type": "execute_result"
    }
   ],
   "source": [
    "os.getcwd()"
   ]
  },
  {
   "cell_type": "code",
   "execution_count": null,
   "metadata": {
    "scrolled": true
   },
   "outputs": [],
   "source": [
    "import io\n",
    "import requests\n",
    "from PyPDF2 import PdfFileReader\n",
    "from subprocess import call\n",
    "\n",
    "# filename = Path('metadata.pdf')\n",
    "response = requests.get('https://files.brokercheck.finra.org/firm/firm_361.pdf')\n",
    "call('qpdf --password=%s --decrypt %s %s' %('', 'metadata.pdf', 'metadata_decr.pdf'), shell=True)\n",
    "# f = io.BytesIO(response.content)\n",
    "f = open('metadata_decr.pdf','rb')\n",
    "reader = PdfFileReader(f)\n",
    "\n",
    "# reader.getNumPages()\n",
    "page = reader.getPage(10)\n",
    "print(page.extractText())\n",
    "\n",
    "# contents = reader.getPage(0).extractText().split('\\n')\n",
    "# with open('metadata.pdf', 'wb') as f:\n",
    "#     f.write(response.content)\n",
    "\n",
    "# filename.write_bytes(response.content)"
   ]
  },
  {
   "cell_type": "code",
   "execution_count": null,
   "metadata": {},
   "outputs": [],
   "source": [
    "filename"
   ]
  },
  {
   "cell_type": "code",
   "execution_count": null,
   "metadata": {},
   "outputs": [],
   "source": [
    "from pdfminer.layout import LAParams\n",
    "from pdfminer.pdfinterp import PDFResourceManager\n",
    "from pdfminer.converter import PDFPageAggregator\n",
    "from pdfminer.converter import TextConverter\n",
    "from pdfminer.pdfpage import PDFPage\n",
    "from pdfminer.pdfinterp import PDFPageInterpreter\n",
    "from pdfminer.layout import LTTextBoxHorizontal\n",
    "from pdfminer.layout import LTPage\n",
    "from io import StringIO\n",
    "\n",
    "def doc_read(path):\n",
    "    text_list = []\n",
    "\n",
    "    document = open(path, 'rb')\n",
    "    string_writer=StringIO()\n",
    "#     try:    #Create resource manager\n",
    "    rsrcmgr = PDFResourceManager()\n",
    "    # Set parameters for analysis.\n",
    "    laparams = LAParams()\n",
    "    device = TextConverter(rsrcmgr, string_writer, codec='utf-8', laparams=LAParams())\n",
    "    interpreter = PDFPageInterpreter(rsrcmgr, device)\n",
    "    for page in PDFPage.get_pages(document, maxpages=5):\n",
    "        interpreter.process_page(page)\n",
    "    text_list += string_writer.getvalue()\n",
    "    \n",
    "#     # Create a PDF page aggregator object.\n",
    "#     device = PDFPageAggregator(rsrcmgr, laparams=laparams)\n",
    "#     interpreter = PDFPageInterpreter(rsrcmgr, device)\n",
    "# #          print(PDFPage.get_pages(document)[0])\n",
    "#     for page in PDFPage.get_pages(document):\n",
    "#         interpreter.process_page(page)\n",
    "#         # receive the LTPage object for the page.\n",
    "#         layout = device.get_result()\n",
    "#         print(layout)\n",
    "#         for element in layout:\n",
    "#             print(element.get_text())\n",
    "#             try:\n",
    "#                 text_list.append(element.get_text().replace('\\n',''))\n",
    "#             except:\n",
    "#                 pass\n",
    "\n",
    "#     document.close()\n",
    "#     except Exception as e:\n",
    "#         document.close()\n",
    "#         print(e)\n",
    "    return text_list\n",
    "doc_read('metadata_decr.pdf')"
   ]
  },
  {
   "cell_type": "code",
   "execution_count": null,
   "metadata": {
    "scrolled": true
   },
   "outputs": [],
   "source": [
    "from pdfminer.converter import TextConverter\n",
    "from io import StringIO\n",
    "path = 'metadata.pdf'\n",
    "rsrcmgr = PDFResourceManager()\n",
    "retstr = StringIO()\n",
    "codec = 'utf-8'\n",
    "laparams = LAParams()\n",
    "device = TextConverter(rsrcmgr, retstr, codec=codec, laparams=laparams)\n",
    "fp = open(path, 'rb')\n",
    "interpreter = PDFPageInterpreter(rsrcmgr, device)\n",
    "password = \"\"\n",
    "maxpages = 0\n",
    "caching = True\n",
    "pagenos=set()\n",
    "for page in PDFPage.get_pages(fp, pagenos, password=password,maxpages=maxpages,caching=caching, check_extractable=True):\n",
    "    interpreter.process_page(page)"
   ]
  },
  {
   "cell_type": "code",
   "execution_count": null,
   "metadata": {},
   "outputs": [],
   "source": []
  }
 ],
 "metadata": {
  "kernelspec": {
   "display_name": "Python 3",
   "language": "python",
   "name": "python3"
  },
  "language_info": {
   "codemirror_mode": {
    "name": "ipython",
    "version": 3
   },
   "file_extension": ".py",
   "mimetype": "text/x-python",
   "name": "python",
   "nbconvert_exporter": "python",
   "pygments_lexer": "ipython3",
   "version": "3.6.9"
  }
 },
 "nbformat": 4,
 "nbformat_minor": 4
}
